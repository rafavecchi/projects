{
 "cells": [
  {
   "cell_type": "code",
   "execution_count": 1,
   "metadata": {
    "scrolled": true
   },
   "outputs": [],
   "source": [
    "\n",
    "from selenium import webdriver\n",
    "from selenium.webdriver.support.ui import Select\n",
    "import time\n",
    "\n",
    "driver = webdriver.Chrome()\n",
    "driver.get('https://www.epicpass.com/account/login.aspx?url=%2fplan-your-trip%2flift-access%2freservations.aspx%3freservation%3dtrue')\n",
    "id_box = driver.find_element_by_id(\"txtUserName_3\")\n",
    "pass_box = driver.find_element_by_id('txtPassword_3')\n",
    "\n",
    "coco = 'xixi'\n",
    "#while coco == 'xixi':\n",
    "#    try:\n",
    "    \n",
    "id_box.send_keys(\"rafavecchi10@gmail.com\")\n",
    "\n",
    "pass_box.send_keys('soCocdc10!')\n",
    "\n",
    "#        time.sleep(3)\n",
    "\n",
    "#        login_button = driver.find_element_by_xpath('/html/body/div[3]/div/div/div[2]/div/div/div[1]/form/div/div/div[5]/button')\n",
    "#        login_button.click()\n",
    "#        time.sleep(15)\n",
    "#        coco = 'pum'\n",
    "        \n",
    "#    except:\n",
    "#        driver.refresh()\n",
    "#        time.sleep(3)"
   ]
  },
  {
   "cell_type": "code",
   "execution_count": null,
   "metadata": {},
   "outputs": [
    {
     "name": "stdout",
     "output_type": "stream",
     "text": [
      "What day would you like to reserve?6\n",
      "press y for this month or n for next monthy\n"
     ]
    }
   ],
   "source": [
    "x = input('What day would you like to reserve?')\n",
    "g = input('press y for this month or n for next month')\n",
    "lessgo = 'go'\n",
    "while lessgo == 'go':\n",
    "    try:\n",
    "        select = Select(driver.find_element_by_id('PassHolderReservationComponent_Resort_Selection'))\n",
    "        select.select_by_visible_text('Park City')\n",
    "        \n",
    "        time.sleep(2)\n",
    "\n",
    "        check_button = driver.find_element_by_xpath('/html/body/div[3]/div/div[2]/div[2]/div/div/div/div[3]/div/div/div[3]/button')\n",
    "        check_button.click()\n",
    "        \n",
    "        time.sleep(2)\n",
    "        \n",
    "        if g == 'n':\n",
    "            \n",
    "            next_month_button = driver.find_element_by_xpath('/html/body/div[3]/div/div[2]/div[2]/div/div/div/div[3]/div[2]/div[1]/div[2]/div[2]/div/div[1]/button[2]')\n",
    "            next_month_button.click()\n",
    "            time.sleep(1)\n",
    "        else:\n",
    "            pass\n",
    "        y = '/html/body/div[3]/div/div[2]/div[2]/div/div/div/div[3]/div[2]/div[1]/div[2]/div[2]/div/div[4]/button['+x+']'\n",
    "        \n",
    "        calendar_button = driver.find_element_by_xpath(y)\n",
    "        calendar_button.click()\n",
    "\n",
    "        time.sleep(3)\n",
    "\n",
    "        name_button = driver.find_element_by_xpath('/html/body/div[3]/div/div[2]/div[2]/div/div/div/div[3]/div[2]/div[2]/div[1]/div[2]/div/ul/li/span/label/span')\n",
    "        name_button.click()\n",
    "\n",
    "        time.sleep(3)\n",
    "\n",
    "        assign_button = driver.find_element_by_xpath('/html/body/div[3]/div/div[2]/div[2]/div/div/div/div[3]/div[2]/div[2]/div[1]/div[2]/div/div[3]/button[2]')\n",
    "        assign_button.click()\n",
    "\n",
    "        time.sleep(3)\n",
    "\n",
    "        terms_button = driver.find_element_by_xpath('/html/body/div[3]/div/div[2]/div[2]/div/div/div/div[3]/div[2]/div[6]/div[2]/div[2]/div[2]')\n",
    "        terms_button.click()\n",
    "\n",
    "        time.sleep(1)\n",
    "        \n",
    "        complete_button = driver.find_element_by_xpath('/html/body/div[3]/div/div[2]/div[2]/div/div/div/div[3]/div[2]/div[6]/div[3]/button')\n",
    "        complete_button.click()\n",
    "        \n",
    "        lessgo = 'got_it'\n",
    "        break\n",
    "\n",
    "    except:\n",
    "        driver.refresh()\n",
    "\n",
    "        time.sleep(3)"
   ]
  },
  {
   "cell_type": "code",
   "execution_count": null,
   "metadata": {},
   "outputs": [],
   "source": []
  }
 ],
 "metadata": {
  "kernelspec": {
   "display_name": "Python 3",
   "language": "python",
   "name": "python3"
  },
  "language_info": {
   "codemirror_mode": {
    "name": "ipython",
    "version": 3
   },
   "file_extension": ".py",
   "mimetype": "text/x-python",
   "name": "python",
   "nbconvert_exporter": "python",
   "pygments_lexer": "ipython3",
   "version": "3.8.5"
  }
 },
 "nbformat": 4,
 "nbformat_minor": 4
}
