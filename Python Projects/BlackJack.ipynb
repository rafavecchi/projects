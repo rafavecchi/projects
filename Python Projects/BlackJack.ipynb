{
 "cells": [
  {
   "cell_type": "code",
   "execution_count": 1,
   "metadata": {},
   "outputs": [],
   "source": [
    "import random\n",
    "suits = ('Hearts', 'Diamonds', 'Spades', 'Clubs')\n",
    "ranks = ('Two', 'Three', 'Four', 'Five', 'Six', 'Seven', 'Eight', 'Nine', 'Ten', 'Jack', 'Queen', 'King', 'Ace')\n",
    "value = {'Two':2, 'Three':3, 'Four':4, 'Five':5, 'Six':6, 'Seven':7, 'Eight':8, \n",
    "            'Nine':9, 'Ten':10, 'Jack':10, 'Queen':10, 'King':10, 'Ace':11}"
   ]
  },
  {
   "cell_type": "code",
   "execution_count": 2,
   "metadata": {},
   "outputs": [],
   "source": [
    "class Bank:\n",
    "    def __init__(self):\n",
    "        pass\n",
    "\n",
    "    def balance(self,i_won,previous,betting):\n",
    "        self.i_won = i_won\n",
    "        self.previous = previous\n",
    "        self.betting = betting\n",
    "        \n",
    "        if self.i_won == True:\n",
    "            self.total = self.previous + self.betting\n",
    "        else:\n",
    "            self.total = self.previous - self.betting\n",
    "    \n",
    "        return self.total"
   ]
  },
  {
   "cell_type": "code",
   "execution_count": 3,
   "metadata": {},
   "outputs": [],
   "source": [
    "class Card:\n",
    "    def __init__(self,suit,rank):\n",
    "        self.suit = suit\n",
    "        self.rank = rank\n",
    "        self.value = value[rank]\n",
    "        \n",
    "    def __str__(self):\n",
    "        return self.rank + ' of ' + self.suit"
   ]
  },
  {
   "cell_type": "code",
   "execution_count": 4,
   "metadata": {},
   "outputs": [],
   "source": [
    "class Deck:\n",
    "    def __init__(self):\n",
    "        self.all_cards = []\n",
    "        for rank in ranks:\n",
    "            for suit in suits:\n",
    "                self.all_cards.append(Card(suit,rank))\n",
    "    \n",
    "    def shuffle(self):\n",
    "        random.shuffle(self.all_cards)\n",
    "        \n",
    "    def deal_card(self):\n",
    "        return self.all_cards.pop(0)"
   ]
  },
  {
   "cell_type": "code",
   "execution_count": 5,
   "metadata": {},
   "outputs": [],
   "source": [
    "class Player:\n",
    "    def __init__(self):\n",
    "        self.all_cards = []\n",
    "    \n",
    "    def add_cards(self,new_card):\n",
    "        self.all_cards.append(new_card)\n",
    "        \n",
    "    def total(self):\n",
    "        for i in self.all_cards:\n",
    "            val = i\n",
    "            val.value += val.value\n",
    "        return val.value()\n",
    "        "
   ]
  },
  {
   "cell_type": "code",
   "execution_count": 6,
   "metadata": {},
   "outputs": [],
   "source": [
    "#Logic\n",
    "\n",
    "#bank balance is shown\n",
    "#start = int(input('How much are you starting with today chap?'))\n",
    "start = 10000    \n",
    "    \n",
    "#bet = int(input('How much would you like to bet lad?'))\n",
    "bet = 100\n"
   ]
  },
  {
   "cell_type": "code",
   "execution_count": 7,
   "metadata": {},
   "outputs": [],
   "source": [
    "#Deck is shuffled then delt\n",
    "the_deck = Deck()\n",
    "the_deck.shuffle()\n",
    "\n",
    "player_cards = Player()\n",
    "dealer_cards = Player()\n",
    "\n",
    "for x in range(2):\n",
    "    player_cards.add_cards(the_deck.deal_card())\n",
    "    dealer_cards.add_cards(the_deck.deal_card())\n"
   ]
  },
  {
   "cell_type": "code",
   "execution_count": null,
   "metadata": {},
   "outputs": [],
   "source": [
    "#Player plays\n",
    "print (f'You have a {player_cards.all_cards[-1]} and {player_cards.all_cards[-2]}')\n",
    "print (f'One of the dealers card is face down, the other is a {dealer_cards.all_cards[-1]}')\n",
    "\n",
    "totes = 0\n",
    "for i in player_cards.all_cards:\n",
    "    totes = totes + i.value\n",
    "\n",
    "player_turn = 'hit me'\n",
    "\n",
    "while player_turn == 'hit me':\n",
    "    \n",
    "    if totes == 21:\n",
    "        player_turn = 'stop'\n",
    "        print ('You win!')\n",
    "    \n",
    "    else:\n",
    "    \n",
    "        player_turn = input('What would you like to do? ')\n",
    "\n",
    "        if player_turn == 'hit me':\n",
    "\n",
    "            player_cards.add_cards(the_deck.deal_card())\n",
    "            print (f'You got a {player_cards.all_cards[-1]}')\n",
    "            my_new_card = player_cards.all_cards[-1]\n",
    "            totes = totes + my_new_card.value\n",
    "\n",
    "            if totes > 21:\n",
    "                for i in player_cards.all_cards:\n",
    "                    if i.value == 11 and totes > 21:\n",
    "                        i.value = 1\n",
    "                        totes = 0\n",
    "                        for i in player_cards.all_cards:\n",
    "                            totes = totes + i.value\n",
    "                    else:\n",
    "                        pass\n",
    "\n",
    "                if totes > 21:\n",
    "                    player_turn = 'lose'\n",
    "                    print ('Player exploded! Player is a loser')\n",
    "\n",
    "                else:\n",
    "                    pass\n",
    "\n",
    "            else:\n",
    "                pass\n",
    "            \n",
    "            print (f'Your cards add up to {totes}')\n",
    "\n",
    "        else:\n",
    "            pass"
   ]
  },
  {
   "cell_type": "code",
   "execution_count": 49,
   "metadata": {},
   "outputs": [
    {
     "name": "stdout",
     "output_type": "stream",
     "text": [
      "16\n",
      "Dealer got a Eight of Clubs\n",
      "Dealer cards add up to 24\n",
      "Dealer exploded! Dealer is a loser\n"
     ]
    }
   ],
   "source": [
    "#Dealer plays\n",
    "\n",
    "dealer_totes = 0\n",
    "for i in dealer_cards.all_cards:\n",
    "    dealer_totes = dealer_totes + i.value\n",
    "\n",
    "print (dealer_totes)\n",
    "\n",
    "dealer_turn = 'hit me'\n",
    "\n",
    "while dealer_totes < 22 and dealer_turn == 'hit me':\n",
    "\n",
    "    if totes == 21:\n",
    "        print ('Player won!')\n",
    "        dealer_turn = 'stop'\n",
    "        \n",
    "    elif totes > 21:\n",
    "        print ('Dealer won!')\n",
    "        dealer_turn = 'win'\n",
    "    \n",
    "    elif dealer_totes == 21:\n",
    "        dealer_turn = 'win'\n",
    "        print ('Dealer wins!')\n",
    "\n",
    "    elif dealer_totes > totes and dealer_totes < 21:\n",
    "        dealer_turn = 'win'\n",
    "        print ('Dealer wins!')\n",
    "\n",
    "    else:\n",
    "        dealer_cards.add_cards(the_deck.deal_card())\n",
    "        print (f'Dealer got a {dealer_cards.all_cards[-1]}')\n",
    "        dealer_new_card = dealer_cards.all_cards[-1]\n",
    "        dealer_totes = dealer_totes + dealer_new_card.value\n",
    "        #if player_cards.all_cards.total() > 22 and player_cards.all_cards.value[-1] == 11:\n",
    "\n",
    "        print (f'Dealer cards add up to {dealer_totes}')\n",
    "        \n",
    "        if dealer_totes > 21:\n",
    "            for i in dealer_cards.all_cards:\n",
    "                if i.value == 11 and dealer_totes > 21:\n",
    "                    i.value = 1\n",
    "                    for i in dealer_cards.all_cards:\n",
    "                        dealer_totes = dealer_totes + i.value\n",
    "                else:\n",
    "                    pass\n",
    "\n",
    "            if dealer_totes > 21:\n",
    "                dealer_turn = 'lose'\n",
    "                print ('Dealer exploded! Dealer is a loser')\n",
    "\n",
    "            else:\n",
    "                pass\n",
    "        else:\n",
    "            pass\n"
   ]
  },
  {
   "cell_type": "code",
   "execution_count": 42,
   "metadata": {},
   "outputs": [
    {
     "name": "stdout",
     "output_type": "stream",
     "text": [
      "Your bank balance is 9500\n"
     ]
    }
   ],
   "source": [
    "#update bank balance\n",
    "if dealer_turn == 'win':\n",
    "    \n",
    "    bank_balance = Bank()\n",
    "    bank_balance.balance(False,start,bet)\n",
    "    \n",
    "else:\n",
    "\n",
    "    bank_balance = Bank()\n",
    "    bank_balance.balance(True,start,bet)\n",
    "\n",
    "start = bank_balance.total\n",
    "print(f'Your bank balance is {bank_balance.total}')"
   ]
  },
  {
   "cell_type": "code",
   "execution_count": null,
   "metadata": {},
   "outputs": [],
   "source": []
  }
 ],
 "metadata": {
  "kernelspec": {
   "display_name": "Python 3",
   "language": "python",
   "name": "python3"
  },
  "language_info": {
   "codemirror_mode": {
    "name": "ipython",
    "version": 3
   },
   "file_extension": ".py",
   "mimetype": "text/x-python",
   "name": "python",
   "nbconvert_exporter": "python",
   "pygments_lexer": "ipython3",
   "version": "3.8.5"
  }
 },
 "nbformat": 4,
 "nbformat_minor": 4
}
